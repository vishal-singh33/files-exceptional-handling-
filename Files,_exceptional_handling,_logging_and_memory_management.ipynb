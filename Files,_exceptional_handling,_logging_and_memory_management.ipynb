{
  "nbformat": 4,
  "nbformat_minor": 0,
  "metadata": {
    "colab": {
      "provenance": []
    },
    "kernelspec": {
      "name": "python3",
      "display_name": "Python 3"
    },
    "language_info": {
      "name": "python"
    }
  },
  "cells": [
    {
      "cell_type": "markdown",
      "source": [
        "**1. What is the difference between interpreted and compiled languages**\n",
        "       ans--Compiled = Write your book, translate the whole thing into another language, then publish it.\n",
        "        Interpreted = Have a live translator read your book aloud, sentence by sentence, to the audience.\n",
        "        **1**. Compiled Languages\n",
        "         How they work:Compiled Languages\n",
        "          The code is translated all at once into machine code (binary) by a compiler before you run it.\n",
        "            Example languages: C, C++, Rust, Go.\n",
        "             Pros:\n",
        "              Usually faster execution because the program is already in machine code.\n",
        "                Doesn't need the source code present at runtime—just the compiled binary.\n",
        "                 Cons:\n",
        "                 Longer initial \"compile time\" before you can run it.\n",
        "                 If you make changes, you must recompile.\n",
        "                  **2**.Interpreted Language\n",
        "                  How they work: Interpreted Languages\n",
        "                  he code is read and executed line-by-line by an interpreter at runtime\n",
        "                  Example languages: Python, JavaScript, Ruby.\n",
        "                  Pros:\n",
        "                   Quick to test and run—no compilation step.\n",
        "                     Easier to debug because you can run partial code interactively.\n",
        "                      Cons:\n",
        "                       Usually slower execution because the interpreter translates while running.\n",
        "                         Needs the interpreter installed on the machine to run."
      ],
      "metadata": {
        "id": "DUmeUvxmwgJH"
      }
    },
    {
      "cell_type": "markdown",
      "source": [
        "**2. What is exception handling in Python**\n",
        "         ans--Exception handling in Python is a way to deal with errors in your program without making it crash.\n",
        "         An exception is an event that occurs during program execution that disrupts the normal flow of instructions.\n",
        "Examples:\n",
        "ZeroDivisionError → Dividing by zero.\n",
        "FileNotFoundError → Trying to open a file that doesn't exist.\n",
        "ValueError → Invalid data type conversion (e.g., int(\"abc\")).\n"
      ],
      "metadata": {
        "id": "9QLExJozx-vM"
      }
    },
    {
      "cell_type": "markdown",
      "source": [
        "**3.What is the purpose of the finally block in exception handling**\n",
        "       ans--The finally block in Python exception handling is used to write code that must run no matter what happens — whether an exception occurs, doesn't occur, or is even caught\n",
        "       If  there's no error → finally runs after the try (and else if present).\n",
        "If there's an error and it's caught → finally still runs.\n",
        "If there's an uncaught error → finally still runs before the program exits."
      ],
      "metadata": {
        "id": "H3FIGqW1zEk1"
      }
    },
    {
      "cell_type": "markdown",
      "source": [
        "**4.What is logging in Python**\n",
        "      ans--Logging in Python is a way to record events, errors, warnings, or general information about how your program is running — like a “black box” for your code.\n",
        "       In short: Logging in Python is your program's event diary — it keeps a reliable record of what's happening, which is essential for debugging, monitoring, and auditing."
      ],
      "metadata": {
        "id": "5DcuQfqKzEox"
      }
    },
    {
      "cell_type": "markdown",
      "source": [
        "**5.What is the significance of the __del__ method in Python**\n",
        "       ans--The __del__ method in Python is called a destructor — it's a special method that's automatically called when an object is about to be destroyed (i.e., when Python's garbage collector is removing it from memory).\n",
        "        Used to clean up resources before an object is deleted.\n",
        "Examples:\n",
        "Closing file handles.\n",
        "Releasing network or database connections.\n",
        "Printing a farewell message (for debugging).\n",
        "\n"
      ],
      "metadata": {
        "id": "Y1d--XvdzErK"
      }
    },
    {
      "cell_type": "markdown",
      "source": [
        "**6.What is the difference between import and from ... import in Python**\n",
        "        ans--The difference between import and from ... import in Python comes down to how you bring code from a module into your program and how you access it afterward.\n",
        "        **import statement**\n",
        "Imports the entire module.\n",
        "You must use the module name as a prefix to access its functions, classes, or variables.\n",
        "\n",
        "**from ... import statement**\n",
        "Imports specific items from a module directly into your namespace.\n",
        "You can use them without the module prefix.\n",
        "\n"
      ],
      "metadata": {
        "id": "qbwqWRdyzEto"
      }
    },
    {
      "cell_type": "code",
      "source": [
        "import math\n",
        "\n",
        "print(math.sqrt(16))\n"
      ],
      "metadata": {
        "colab": {
          "base_uri": "https://localhost:8080/"
        },
        "id": "-tB-cnKR1gnz",
        "outputId": "251eaa0a-8768-45c4-dc50-4c657127c7b6"
      },
      "execution_count": 1,
      "outputs": [
        {
          "output_type": "stream",
          "name": "stdout",
          "text": [
            "4.0\n"
          ]
        }
      ]
    },
    {
      "cell_type": "code",
      "source": [
        "from math import sqrt\n",
        "\n",
        "print(sqrt(16))\n"
      ],
      "metadata": {
        "colab": {
          "base_uri": "https://localhost:8080/"
        },
        "id": "OOWoGVpD10c7",
        "outputId": "a74c1ed6-70cb-411a-c5be-79a98403d176"
      },
      "execution_count": 2,
      "outputs": [
        {
          "output_type": "stream",
          "name": "stdout",
          "text": [
            "4.0\n"
          ]
        }
      ]
    },
    {
      "cell_type": "markdown",
      "source": [
        "**7.How can you handle multiple exceptions in Python**\n",
        "       ans--You can handle multiple exceptions in Python in a few different ways, depending on how you want your code to respond.\n",
        "     1.  Multiple except Blocks (Separate Handling)\n",
        "     2. Single except Handling Multiple Exceptions Together\n",
        "     3. Catch-All Exception\n",
        "     4. Using else and finally with Multiple Exceptions"
      ],
      "metadata": {
        "id": "ej8v8pt8zEv8"
      }
    },
    {
      "cell_type": "markdown",
      "source": [
        "**8.What is the purpose of the with statement when handling files in Python**\n",
        "      ANS--The with statement in Python is used to automatically manage resources, especially when working with files, so you do't have to manually close them.\n",
        " Purpose\n",
        "Ensures the file is properly closed after you're done with it — even if an error occurs.\n",
        "Makes code cleaner and less error-prone than using open() and close() manually.\n",
        "No need to call file.close() — Python does it for you.\n",
        "Cleaner and more readable.\n",
        "Safer in case of exceptions.\n",
        "with is like saying — “Open this file, do what I need, and make sure it’s cleaned up no matter what.”"
      ],
      "metadata": {
        "id": "U4Y60brBzEyB"
      }
    },
    {
      "cell_type": "markdown",
      "source": [
        "**9. What is the difference between multithreading and multiprocessing**\n",
        "       ANS--1. **Multithreading**\n",
        "Definition: Runs multiple threads (lightweight sub-tasks) within the same process.\n",
        "Memory: All threads share the same memory space.\n",
        "Best for: I/O-bound tasks (e.g., file reading, network requests, waiting for APIs).\n",
        "Limitation in Python: Due to the Global Interpreter Lock (GIL), only one thread executes Python bytecode at a time — so multithreading doesn't speed up CPU-heavy tasks.\n",
        "\n",
        "2. **Multiprocessing**\n",
        "Definition: Runs multiple processes, each with its own Python interpreter and memory space.\n",
        "Memory: Each process has separate memory (data is not shared directly).\n",
        "Best for: CPU-bound tasks (e.g., heavy calculations, data processing, image rendering).\n",
        "No GIL problem: Each process runs independently, so they can fully use multiple CPU cores.\n"
      ],
      "metadata": {
        "id": "9bdrKcx_3Hcj"
      }
    },
    {
      "cell_type": "markdown",
      "source": [
        "**10.What are the advantages of using logging in a program**\n",
        "      ANS--Using logging in a program has several advantages over just using print() for debugging or tracking what's happening\n",
        "      1. Keeps a permanent record\n",
        "      2. Provides different log levels\n",
        "      3. More control and flexibility\n",
        "      4. Works well in production\n",
        "      5. Helps in debugging and auditing\n",
        "      Logging is like giving your program a diary — it records important events so you can monitor, debug, and troubleshoot both during and after execution."
      ],
      "metadata": {
        "id": "cz7q0kQZ3HiP"
      }
    },
    {
      "cell_type": "markdown",
      "source": [
        "**11. What is memory management in Python**\n",
        "       ANS--Memory management in Python is the process of allocating, tracking, and freeing memory so your program can store and use data efficiently without running out of resources.\n",
        "Python handles most of this automatically using its built-in memory manager and garbage collector.\n",
        " How Python manages memory\n",
        "a) Private Heap Space\n",
        "All Python objects (integers, lists, strings, etc.) are stored in a private memory area called the Python heap.\n",
        "This space is not directly accessible — you can't manually control it like in C or C++.\n",
        "b) Memory Manager\n",
        "Decides how much memory to allocate to objects.\n",
        "Handles object creation, storage, and deletion behind the scenes.\n",
        "c) Garbage Collection\n",
        "Python uses reference counting and a cyclic garbage collector to free memory:\n",
        "Reference Counting → When an object's reference count drops to zero, it's deleted.\n",
        "Garbage Collector → Finds and removes objects involved in reference cycles (e.g., two objects referring to each other)."
      ],
      "metadata": {
        "id": "GG6pFFxl3Hk6"
      }
    },
    {
      "cell_type": "markdown",
      "source": [
        "**12.What are the basic steps involved in exception handling in Python**\n",
        "        ANS--The basic steps in exception handling in Python follow a simple structured process using the try, except, else, and finally blocks\n",
        "         Identify risky code\n",
        "Find the part of your code that might cause an error.\n",
        "Put that code inside a try block.\n",
        "Catch the exception\n",
        "Use one or more except blocks to handle specific errors.\n",
        "You can also handle multiple exceptions in one block.\n",
        " (Optional) Execute code if no exception occurs\n",
        "The else block runs only if the try block has no errors.\n",
        "(Optional) Run cleanup code no matter what\n",
        "The finally block always runs, whether there's an exception or not.\n",
        "Useful for closing files, releasing resources, or cleaning up."
      ],
      "metadata": {
        "id": "Y0iGrhMl3HnW"
      }
    },
    {
      "cell_type": "markdown",
      "source": [
        "**13.Why is memory management important in Python**\n",
        "      ANS--Memory management is important in Python because it directly affects performance, stability, and resource efficiency of your programs\n",
        "      1. Prevents Memory Leaks\n",
        "      2. Improves Performance\n",
        "      3. Supports Large Data Handling\n",
        "      4. Ensures Stability in Long-Running Programs\n",
        "      5. Works Across Different Systems"
      ],
      "metadata": {
        "id": "rjex9B0g3Hpu"
      }
    },
    {
      "cell_type": "markdown",
      "source": [
        "**14.What is the role of try and except in exception handling**\n",
        "      ans--In Python exception handling, the try and except blocks work together to detect and handle errors so your program doesn’t crash unexpectedly.\n",
        "     ** try bloc**k → Watch for errors\n",
        "Contains the code that might cause an exception.\n",
        "If no exception occurs → Python runs the code normally and skips except.\n",
        "If an exception occurs → Python immediately jumps to the matching except block and skips the rest of the try block.\n",
        "\n",
        "**except block** → Handle the error\n",
        "Contains code to respond to the error.\n",
        "Prevents the program from crashing.\n",
        "Can handle specific exceptions or multiple types."
      ],
      "metadata": {
        "id": "Jfqa78Zl3HsI"
      }
    },
    {
      "cell_type": "markdown",
      "source": [
        "**15. How does Python's garbage collection system work**\n",
        "      ans--It works in two main ways:\n",
        "1. **Reference Counting **(Primary Method)\n",
        "Every object in Python keeps track of how many references point to it.\n",
        "When you assign an object to a variable, the reference count increases.\n",
        "When a reference is deleted or goes out of scope, the count decreases.\n",
        "If the count reaches zero, Python immediately frees the object's memory.\n",
        "\n",
        "2.**Cyclic Garbage Collector** (Secondary Method)\n",
        "Reference counting alone fails with circular references:"
      ],
      "metadata": {
        "id": "FNlv-dqc3HuR"
      }
    },
    {
      "cell_type": "markdown",
      "source": [
        "**16.What is the purpose of the else block in exception handling**\n",
        "     ans--In Python's exception handling, the else block is used to run code only if no exceptions occur in the try block.\n",
        "     Purpose\n",
        "Keeps your “normal” code separate from the error-handling code.\n",
        "Makes the try block contain only the code that might fail.\n",
        "Improves readability by avoiding mixing success and error-handling logic.\n",
        "\n",
        "Think of else in exception handling like:\n",
        "\"If nothing went wrong, do this next step.\"\n",
        "\n",
        "\n"
      ],
      "metadata": {
        "id": "heYHgVH73HzG"
      }
    },
    {
      "cell_type": "markdown",
      "source": [
        "**17.What are the common logging levels in Python**\n",
        "     ans--Python’s built-in logging module defines five common logging levels, each representing the severity of the message.\n",
        "\n",
        "  | Level        | Numeric Value | Purpose                                                                   |\n",
        "| ------------ | ------------- | ------------------------------------------------------------------------- |\n",
        "| **DEBUG**    | `10`          | Detailed diagnostic information for developers. Useful during debugging.  |\n",
        "| **INFO**     | `20`          | General events confirming that things are working as expected.            |\n",
        "| **WARNING**  | `30`          | Something unexpected happened, but the program is still running normally. |\n",
        "| **ERROR**    | `40`          | A serious issue occurred — part of the program failed.                    |\n",
        "| **CRITICAL** | `50`          | A severe error that may cause the program to stop running.                |\n",
        "\n",
        "logging.basicConfig(level=logging.WARNING)\n"
      ],
      "metadata": {
        "id": "PepH9Cfh3H1s"
      }
    },
    {
      "cell_type": "markdown",
      "source": [
        "**18.What is the difference between os.fork() and multiprocessing in Pytho**\n",
        "      ans--The difference between os.fork() and multiprocessing in Python comes down to how processes are created, platform support, and ease of use\n",
        "\n",
        "     ** os.fork()**--Directly creates a child process by duplicating the current process.\n",
        "The child process is an exact copy of the parent at the moment of forking.\n",
        "\n",
        "**multiprocessing module**--High-level Python API for creating and managing processes.\n",
        "Works on both Unix and Windows.\n",
        "Handles process creation differently based on the platform\n",
        "Unix → often uses fork() under the hood.\n",
        "Windows → uses the \"spawn\" method"
      ],
      "metadata": {
        "id": "fFZIytTf8Ef_"
      }
    },
    {
      "cell_type": "markdown",
      "source": [
        "**19. What is the importance of closing a file in Python**\n",
        "     ans--Closing a file in Python is important because it ensures data integrity, resource management, and program stability.\n",
        "     When you write to a file, data is often stored in a buffer (in memory) before being written to disk.\n",
        "If you don't close the file, some data may remain in the buffer and never get saved."
      ],
      "metadata": {
        "id": "JPvLIYgr7zw9"
      }
    },
    {
      "cell_type": "markdown",
      "source": [
        "**20.What is the difference between file.read() and file.readline() in Python**\n",
        "      ans--The difference between file.read() and file.readline() in Python is mainly how much data they read from the file.\n",
        "      ile.read()\n",
        "Reads the entire file (or a specified number of bytes/characters) into a single string.\n",
        "If no size is given → reads until EOF (end of file).\n",
        "file.readline()\n",
        "Reads only one line from the file at a time.\n",
        "Stops when it reaches a newline character \\n or EOF.\n",
        "Keeps the newline character at the end (unless it's the last line without one)"
      ],
      "metadata": {
        "id": "dP1oDvqd9ffa"
      }
    },
    {
      "cell_type": "markdown",
      "source": [
        "**21.What is the logging module in Python used for**\n",
        "     ans--The logging module in Python is used for tracking and recording events that happen while your program runs — like a black box for your code.\n",
        "It's mainly for:\n",
        "Debugging problems\n",
        "Monitoring program execution\n",
        "Recording important events for future analysis"
      ],
      "metadata": {
        "id": "SJmCyUAg9fhi"
      }
    },
    {
      "cell_type": "markdown",
      "source": [
        "**22.What is the os module in Python used for in file handling**\n",
        "      ans--The os module in Python is used to interact with the operating system, and in file handling, it gives you tools to work with files and directories beyond just reading/writing their contents.\n",
        "      Works across operating systems (Windows, macOS, Linux)\n",
        "Lets you automate file and directory management\n",
        "Useful for batch processing (handling many files at once)\n",
        "Can integrate with environment variables and system commands"
      ],
      "metadata": {
        "id": "YqvR1FKF9fjV"
      }
    },
    {
      "cell_type": "markdown",
      "source": [
        "**23.What are the challenges associated with memory management in Python**\n",
        "      ans--Memory management in Python is mostly handled automatically by its garbage collection system, but there are still challenges developers face — especially in large or long-running applications.\n",
        "       **Main Challenges**\n",
        "       1. Memory Leaks\n",
        "       2. Circular References\n",
        "       3. High Memory Usage for Large Data\n",
        "       4. Fragmentation\n",
        "       5. Long-Lived Objects\n",
        "      "
      ],
      "metadata": {
        "id": "0PQmEWTJ9gh9"
      }
    },
    {
      "cell_type": "markdown",
      "source": [
        "**24. How do you raise an exception manually in Python**\n",
        "     ans--In Python, you can raise an exception manually using the raise keyword.\n",
        "This is useful when you want to stop execution and signal that something went wrong.\n",
        "raise ExceptionType(\"Error message\")\n",
        "\n",
        "ExceptionType → The type of error you want to raise (e.g., ValueError, TypeError, RuntimeError, or a custom exception class).\n",
        "\"Error message\" → An optional message describing the error.\n"
      ],
      "metadata": {
        "id": "c5ctF-AX9gnz"
      }
    },
    {
      "cell_type": "markdown",
      "source": [
        "**25. Why is it important to use multithreading in certain applications?**\n",
        "      ans--Multithreading is important in certain applications because it can make programs more responsive, faster, and better at handling multiple tasks at once, especially when dealing with tasks that spend time waiting rather than computing.\n",
        "\n",
        "\n",
        "      Multithreading shines when your program needs to stay responsive or handle many I/O-bound tasks at the same time"
      ],
      "metadata": {
        "id": "r8rt582B9g1p"
      }
    },
    {
      "cell_type": "markdown",
      "source": [
        "---------------------**PRACTICAL**------------------------"
      ],
      "metadata": {
        "id": "bdPOoiMS_8kJ"
      }
    },
    {
      "cell_type": "code",
      "source": [
        "#1.How can you open a file for writing in Python and write a string to it\n",
        "with open(\"filename.txt\", \"w\") as file:\n",
        "    file.write(\"hey, i am vishal\")\n",
        "print(\"hey, i am vishal\\ni am a student\")\n",
        "\n"
      ],
      "metadata": {
        "colab": {
          "base_uri": "https://localhost:8080/"
        },
        "id": "iEg8kq9V_2rw",
        "outputId": "d7ad089f-edf9-4a62-a285-03fac4e067e6"
      },
      "execution_count": 40,
      "outputs": [
        {
          "output_type": "stream",
          "name": "stdout",
          "text": [
            "hey, i am vishal\n",
            "i am a student\n"
          ]
        }
      ]
    },
    {
      "cell_type": "code",
      "source": [
        "#2. Write a Python program to read the contents of a file and print each line\n",
        "with open(\"filename.txt\", \"r\") as file:\n",
        "    for line in file:\n",
        "        print(line)"
      ],
      "metadata": {
        "colab": {
          "base_uri": "https://localhost:8080/"
        },
        "id": "c58hDJy4Bb6N",
        "outputId": "d431682b-e805-4c24-e0d2-5f760ab3a342"
      },
      "execution_count": 41,
      "outputs": [
        {
          "output_type": "stream",
          "name": "stdout",
          "text": [
            "hey, i am vishal\n"
          ]
        }
      ]
    },
    {
      "cell_type": "code",
      "source": [
        "#3. How would you handle a case where the file doesn't exist while trying to open it for reading\n",
        "try:\n",
        "    with open(\"non_existent_file.txt\", \"r\") as file:\n",
        "        content = file.read()\n",
        "except FileNotFoundError:\n",
        "    print(\"Error: The file does not exist. Please check the file name or path.\")"
      ],
      "metadata": {
        "colab": {
          "base_uri": "https://localhost:8080/"
        },
        "id": "H-vh9tkMBb85",
        "outputId": "a4ab4be1-ef20-4078-a795-811cbaf9d988"
      },
      "execution_count": 42,
      "outputs": [
        {
          "output_type": "stream",
          "name": "stdout",
          "text": [
            "Error: The file does not exist. Please check the file name or path.\n"
          ]
        }
      ]
    },
    {
      "cell_type": "code",
      "source": [
        "#4.Write a Python script that reads from one file and writes its content to another file\n",
        "\n",
        "try:\n",
        "    with open(\"source.txt\", \"r\") as src_file:\n",
        "        content = src_file.read()\n",
        "\n",
        "    with open(\"destination.txt\", \"w\") as dest_file:\n",
        "        dest_file.write(content)\n",
        "    print(\"File copied successfully!\")\n",
        "\n",
        "except FileNotFoundError:\n",
        "    print(\"Error: The source file does not exist.\")\n",
        "except Exception as e:\n",
        "    print(f\"An unexpected error occurred: {e}\")\n"
      ],
      "metadata": {
        "colab": {
          "base_uri": "https://localhost:8080/"
        },
        "id": "5t80_r_oBcCH",
        "outputId": "47a33f53-a557-40e3-bc11-f437438792fd"
      },
      "execution_count": 43,
      "outputs": [
        {
          "output_type": "stream",
          "name": "stdout",
          "text": [
            "Error: The source file does not exist.\n"
          ]
        }
      ]
    },
    {
      "cell_type": "code",
      "source": [
        "#5. How would you catch and handle division by zero error in Python\n",
        "try:\n",
        "    result = 10 / 0\n",
        "except ZeroDivisionError:\n",
        "    print(\"Error: Division by zero is not allowed.\")"
      ],
      "metadata": {
        "colab": {
          "base_uri": "https://localhost:8080/"
        },
        "id": "HDA652fuC5iO",
        "outputId": "51484feb-f5e6-440c-cf04-35379558d13c"
      },
      "execution_count": 44,
      "outputs": [
        {
          "output_type": "stream",
          "name": "stdout",
          "text": [
            "Error: Division by zero is not allowed.\n"
          ]
        }
      ]
    },
    {
      "cell_type": "code",
      "source": [
        "#6. Write a Python program that logs an error message to a log file when a division by zero exception occurs\n",
        "import logging\n",
        "\n",
        "logging.basicConfig(filename=\"error_log.txt\", level=logging.ERROR)\n",
        "\n",
        "try:\n",
        "    result = 10 / 0\n",
        "except ZeroDivisionError:\n",
        "    logging.error(\"Division by zero error occurred.\")"
      ],
      "metadata": {
        "colab": {
          "base_uri": "https://localhost:8080/"
        },
        "id": "7fO3LsZiC5lB",
        "outputId": "66885fbc-5bc2-4e42-d481-dec998ae9515"
      },
      "execution_count": 45,
      "outputs": [
        {
          "output_type": "stream",
          "name": "stderr",
          "text": [
            "ERROR:root:Division by zero error occurred.\n"
          ]
        }
      ]
    },
    {
      "cell_type": "code",
      "source": [
        "#7. How do you log information at different levels (INFO, ERROR, WARNING) in Python using the logging module\n",
        "import logging\n",
        "\n",
        "logging.basicConfig(level=logging.INFO)\n",
        "\n",
        "logging.info(\"This is an informational message.\")\n",
        "logging.warning(\"This is a warning message.\")\n",
        "logging.error(\"This is an error message.\")"
      ],
      "metadata": {
        "colab": {
          "base_uri": "https://localhost:8080/"
        },
        "id": "A1isrMR3C5m8",
        "outputId": "cdcc96f2-1943-4532-c3c0-697627a98852"
      },
      "execution_count": 46,
      "outputs": [
        {
          "output_type": "stream",
          "name": "stderr",
          "text": [
            "WARNING:root:This is a warning message.\n",
            "ERROR:root:This is an error message.\n"
          ]
        }
      ]
    },
    {
      "cell_type": "code",
      "source": [
        "#8.Write a program to handle a file opening error using exception handling\n",
        "try:\n",
        "    with open(\"non_existent_file.txt\", \"r\") as file:\n",
        "        content = file.read()\n",
        "except FileNotFoundError:\n",
        "    print(\"Error: The file does not exist. Please check the file name or path.\")"
      ],
      "metadata": {
        "colab": {
          "base_uri": "https://localhost:8080/"
        },
        "id": "rRzeq3o7C5pN",
        "outputId": "b8e5b91c-dd41-4397-c875-12bd2e20df9f"
      },
      "execution_count": 47,
      "outputs": [
        {
          "output_type": "stream",
          "name": "stdout",
          "text": [
            "Error: The file does not exist. Please check the file name or path.\n"
          ]
        }
      ]
    },
    {
      "cell_type": "code",
      "source": [
        "#9. How can you read a file line by line and store its content in a list in Python\n",
        "try:\n",
        "    with open(\"filename.txt\", \"r\") as file:\n",
        "        lines = file.readlines()\n",
        "\n",
        "    print(lines)\n",
        "\n",
        "except FileNotFoundError:\n",
        "    print(\"Error: File not found.\")\n"
      ],
      "metadata": {
        "colab": {
          "base_uri": "https://localhost:8080/"
        },
        "id": "Vl1gmp3OC5vT",
        "outputId": "5910a580-8ad3-4f37-b3e8-017ee1443f25"
      },
      "execution_count": 52,
      "outputs": [
        {
          "output_type": "stream",
          "name": "stdout",
          "text": [
            "['hey, i am vishal']\n"
          ]
        }
      ]
    },
    {
      "cell_type": "code",
      "source": [
        "#10. How can you append data to an existing file in Python.\n",
        "try:\n",
        "    with open(\"filename.txt\", \"a\") as file:\n",
        "        file.write(\"\\nThis is a new line added to the file.\")\n",
        "\n",
        "    print(\"Data appended successfully!\")\n",
        "\n",
        "except Exception as e:\n",
        "    print(f\"An error occurred: {e}\")\n",
        "\n"
      ],
      "metadata": {
        "colab": {
          "base_uri": "https://localhost:8080/"
        },
        "id": "8hYRwmECEgGL",
        "outputId": "b06c2c60-e773-4f71-ac30-aafdce7ec463"
      },
      "execution_count": 64,
      "outputs": [
        {
          "output_type": "stream",
          "name": "stdout",
          "text": [
            "Data appended successfully!\n"
          ]
        }
      ]
    },
    {
      "cell_type": "code",
      "source": [
        "#11. Write a Python program that uses a try-except block to handle an error when attempting to access a\n",
        "#dictionary key that doesn't exist\n",
        "# Program to handle missing dictionary key\n",
        "\n",
        "my_dict = {\"name\": \"vishal\", \"age\": 25, \"city\": \"kolkata\"}\n",
        "\n",
        "try:\n",
        "\n",
        "    value = my_dict[\"country\"]\n",
        "    print(\"Country:\", value)\n",
        "\n",
        "except KeyError:\n",
        "    print(\"Error: The key 'country' does not exist in the dictionary.\")\n"
      ],
      "metadata": {
        "colab": {
          "base_uri": "https://localhost:8080/"
        },
        "id": "j8q000aUEgJa",
        "outputId": "ccb5e0dd-8a9c-4355-c9a0-c917626dddce"
      },
      "execution_count": 66,
      "outputs": [
        {
          "output_type": "stream",
          "name": "stdout",
          "text": [
            "Error: The key 'country' does not exist in the dictionary.\n"
          ]
        }
      ]
    },
    {
      "cell_type": "code",
      "source": [
        "#12.Write a program that demonstrates using multiple except blocks to handle different types of exception.\n",
        "try:\n",
        "    result = 10 / 0\n",
        "except ZeroDivisionError:\n",
        "    print(\"Error: Division by zero is not allowed.\")\n",
        "except ValueError:\n",
        "    print(\"Error: Invalid value entered.\")\n"
      ],
      "metadata": {
        "colab": {
          "base_uri": "https://localhost:8080/"
        },
        "id": "zVcK7JJPEgLo",
        "outputId": "1649c958-4c8e-4f41-c9ce-8e5427e2f7ef"
      },
      "execution_count": 67,
      "outputs": [
        {
          "output_type": "stream",
          "name": "stdout",
          "text": [
            "Error: Division by zero is not allowed.\n"
          ]
        }
      ]
    },
    {
      "cell_type": "code",
      "source": [
        "#13. How would you check if a file exists before attempting to read it in Python\n",
        "try:\n",
        "    with open(\"filename.txt\", \"r\") as file:\n",
        "        content = file.read()\n",
        "        print(content)\n",
        "except FileNotFoundError:\n",
        "    print(\"Error: The file does not exist.\")"
      ],
      "metadata": {
        "colab": {
          "base_uri": "https://localhost:8080/"
        },
        "id": "K0xJfIg5EgNw",
        "outputId": "6c32cad3-104c-4b66-a9a7-a680b614d0f9"
      },
      "execution_count": 68,
      "outputs": [
        {
          "output_type": "stream",
          "name": "stdout",
          "text": [
            "hey, i am vishal\n",
            "This is a new line added to the file.\n",
            "This is a new line added to the file.\n",
            "This is a new line added to the file.\n",
            "This is a new line added to the file.\n",
            "This is a new line added to the file.\n",
            "This is a new line added to the file.\n"
          ]
        }
      ]
    },
    {
      "cell_type": "code",
      "source": [
        "#14. Write a program that uses the logging module to log both informational and error messages\n",
        "import logging\n",
        "\n",
        "logging.basicConfig(level=logging.INFO)\n",
        "\n",
        "logging.info(\"This is an informational message.\")\n",
        "logging.error(\"This is an error message.\")"
      ],
      "metadata": {
        "colab": {
          "base_uri": "https://localhost:8080/"
        },
        "id": "K2e7YztjC5yw",
        "outputId": "0ffb8bb1-b460-43c7-e167-b811b930b525"
      },
      "execution_count": 69,
      "outputs": [
        {
          "output_type": "stream",
          "name": "stderr",
          "text": [
            "ERROR:root:This is an error message.\n"
          ]
        }
      ]
    },
    {
      "cell_type": "code",
      "source": [
        "#15. Write a Python program that prints the content of a file and handles the case when the file is empty\n",
        "\n",
        "file_path = \"sample.txt\"\n",
        "\n",
        "try:\n",
        "    with open(file_path, \"r\") as file:\n",
        "        content = file.read()\n",
        "\n",
        "        if content.strip() == \"\":\n",
        "            print(\"The file is empty.\")\n",
        "        else:\n",
        "            print(\"File content:\\n\", content)\n",
        "\n",
        "except FileNotFoundError:\n",
        "    print(f\"Error: '{file_path}' does not exist.\")\n",
        "except Exception as e:\n",
        "    print(f\"An unexpected error occurred: {e}\")\n"
      ],
      "metadata": {
        "colab": {
          "base_uri": "https://localhost:8080/"
        },
        "id": "1EZ3rhshBcEp",
        "outputId": "be25f8bd-6814-4d66-eb75-d7e553df0130"
      },
      "execution_count": 71,
      "outputs": [
        {
          "output_type": "stream",
          "name": "stdout",
          "text": [
            "Error: 'sample.txt' does not exist.\n"
          ]
        }
      ]
    },
    {
      "cell_type": "code",
      "metadata": {
        "colab": {
          "base_uri": "https://localhost:8080/"
        },
        "id": "820a2672",
        "outputId": "b103ea72-fffc-4742-eb08-c3b86719ad68"
      },
      "source": [
        "#16. Demonstrate how to use memory profiling to check the memory usage of a small program\n",
        "!pip install memory-profiler"
      ],
      "execution_count": 83,
      "outputs": [
        {
          "output_type": "stream",
          "name": "stdout",
          "text": [
            "Requirement already satisfied: memory-profiler in /usr/local/lib/python3.11/dist-packages (0.61.0)\n",
            "Requirement already satisfied: psutil in /usr/local/lib/python3.11/dist-packages (from memory-profiler) (5.9.5)\n"
          ]
        }
      ]
    },
    {
      "cell_type": "markdown",
      "metadata": {
        "id": "9dc5570c"
      },
      "source": [
        "Now, let's use the `memory-profiler` to check the memory usage of a function.\n",
        "\n",
        "We'll define a simple function and then use the `@profile` decorator from `memory_profiler` to track its memory usage."
      ]
    },
    {
      "cell_type": "code",
      "metadata": {
        "colab": {
          "base_uri": "https://localhost:8080/"
        },
        "id": "a6c01ee3",
        "outputId": "e658d929-1ff2-41e9-b00c-97fb701ef55f"
      },
      "source": [
        "from memory_profiler import profile\n",
        "\n",
        "@profile\n",
        "def create_list_of_numbers(n):\n",
        "    \"\"\"Creates a list of numbers from 0 to n-1.\"\"\"\n",
        "    numbers = []\n",
        "    for i in range(n):\n",
        "        numbers.append(i)\n",
        "    return numbers\n",
        "\n",
        "my_list = create_list_of_numbers(1000000)"
      ],
      "execution_count": 84,
      "outputs": [
        {
          "output_type": "stream",
          "name": "stdout",
          "text": [
            "ERROR: Could not find file /tmp/ipython-input-560313408.py\n"
          ]
        }
      ]
    },
    {
      "cell_type": "code",
      "source": [
        "#17. Write a Python program to create and write a list of numbers to a file, one number per line\n",
        "numbers = [10, 20, 30, 40, 50]  # Example list\n",
        "file_path = \"numbers.txt\"\n",
        "\n",
        "try:\n",
        "    with open(file_path, \"w\") as file:\n",
        "        for num in numbers:\n",
        "            file.write(f\"{num}\\n\")\n",
        "    print(f\"Numbers written successfully to '{file_path}'.\")\n",
        "except Exception as e:\n",
        "    print(f\"An error occurred: {e}\")\n"
      ],
      "metadata": {
        "colab": {
          "base_uri": "https://localhost:8080/"
        },
        "id": "6W16rGDaKTso",
        "outputId": "f9a0aae0-9051-4f73-e5c3-505df2fa65c0"
      },
      "execution_count": 86,
      "outputs": [
        {
          "output_type": "stream",
          "name": "stdout",
          "text": [
            "Numbers written successfully to 'numbers.txt'.\n"
          ]
        }
      ]
    },
    {
      "cell_type": "code",
      "source": [
        "# 18.How would you implement a basic logging setup that logs to a file with\n",
        "# rotation after 1MB\n",
        "import logging\n",
        "from logging.handlers import RotatingFileHandler\n",
        "\n",
        "log_file = \"app.log\"\n",
        "\n",
        "logger = logging.getLogger(\"MyLogger\")\n",
        "logger.setLevel(logging.INFO)  # Minimum log level\n",
        "\n",
        "handler = RotatingFileHandler(\n",
        "    log_file, maxBytes=1_000_000, backupCount=3\n",
        ")\n",
        "\n",
        "formatter = logging.Formatter(\"%(asctime)s - %(levelname)s - %(message)s\")\n",
        "handler.setFormatter(formatter)\n",
        "\n",
        "logger.addHandler(handler)\n",
        "\n",
        "for i in range(10):\n",
        "    logger.info(f\"This is log entry {i}\")\n",
        "\n"
      ],
      "metadata": {
        "colab": {
          "base_uri": "https://localhost:8080/"
        },
        "id": "5yF1DH4RKT3i",
        "outputId": "52e2c135-3946-4f57-f2c5-fbbbb6cac49c"
      },
      "execution_count": 94,
      "outputs": [
        {
          "output_type": "stream",
          "name": "stderr",
          "text": [
            "INFO:MyLogger:This is log entry 0\n",
            "INFO:MyLogger:This is log entry 1\n",
            "INFO:MyLogger:This is log entry 2\n",
            "INFO:MyLogger:This is log entry 3\n",
            "INFO:MyLogger:This is log entry 4\n",
            "INFO:MyLogger:This is log entry 5\n",
            "INFO:MyLogger:This is log entry 6\n",
            "INFO:MyLogger:This is log entry 7\n",
            "INFO:MyLogger:This is log entry 8\n",
            "INFO:MyLogger:This is log entry 9\n"
          ]
        }
      ]
    },
    {
      "cell_type": "code",
      "source": [
        "#19.Write a program that handles both IndexError and KeyError using a try-except block\n",
        "try:\n",
        "    my_list = [1, 2, 3]\n",
        "    value = my_list[5]\n",
        "except IndexError:\n",
        "    print(\"Error: Index out of range.\")\n",
        "except KeyError:\n",
        "    print(\"Error: Key not found in dictionary.\")"
      ],
      "metadata": {
        "colab": {
          "base_uri": "https://localhost:8080/"
        },
        "id": "MlYitZXaKT6N",
        "outputId": "0eb111ef-1237-44e5-8bab-a882a85391d6"
      },
      "execution_count": 95,
      "outputs": [
        {
          "output_type": "stream",
          "name": "stdout",
          "text": [
            "Error: Index out of range.\n"
          ]
        }
      ]
    },
    {
      "cell_type": "code",
      "source": [
        "#20.How would you open a file and read its contents using a context manager in Python\n",
        "with open(\"filename.txt\", \"r\") as file:\n",
        "    content = file.read()\n",
        "    print(content)"
      ],
      "metadata": {
        "colab": {
          "base_uri": "https://localhost:8080/"
        },
        "id": "FWP1EFZvKT8i",
        "outputId": "08939731-9c42-426e-bf54-954019c5145e"
      },
      "execution_count": 96,
      "outputs": [
        {
          "output_type": "stream",
          "name": "stdout",
          "text": [
            "hey, i am vishal\n",
            "This is a new line added to the file.\n",
            "This is a new line added to the file.\n",
            "This is a new line added to the file.\n",
            "This is a new line added to the file.\n",
            "This is a new line added to the file.\n",
            "This is a new line added to the file.\n"
          ]
        }
      ]
    },
    {
      "cell_type": "code",
      "source": [
        "#21.Write a Python program that reads a file and prints the number of occurrences of a specific word\n",
        "# Program to count the occurrences of a specific word in a file\n",
        "\n",
        "file_path = \"filename.txt\"\n",
        "word_to_count = \"python\"\n",
        "\n",
        "try:\n",
        "    with open(file_path, \"r\", encoding=\"utf-8\") as file:\n",
        "        content = file.read().lower()\n",
        "        words = content.split()\n",
        "        count = words.count(word_to_count.lower())\n",
        "\n",
        "    print(f\"The word '{word_to_count}' occurs {count} times in the file.\")\n",
        "\n",
        "except FileNotFoundError:\n",
        "    print(f\"Error: The file '{file_path}' does not exist.\")\n",
        "except Exception as e:\n",
        "    print(f\"An error occurred: {e}\")\n"
      ],
      "metadata": {
        "colab": {
          "base_uri": "https://localhost:8080/"
        },
        "id": "2aAlsNCeKT-4",
        "outputId": "aa0a67e1-18e0-46ee-8c0a-e6d5da22cf09"
      },
      "execution_count": 101,
      "outputs": [
        {
          "output_type": "stream",
          "name": "stdout",
          "text": [
            "The word 'python' occurs 0 times in the file.\n"
          ]
        }
      ]
    },
    {
      "cell_type": "code",
      "source": [
        "#22.How can you check if a file is empty before attempting to read its contents\n",
        "import os\n",
        "\n",
        "file_path = \"new_file.txt\"\n",
        "if os.path.exists(file_path):\n",
        "    if os.path.getsize(file_path) == 0:\n",
        "        print(\"The file is empty.\")\n",
        "    else:\n",
        "        with open(file_path, \"r\", encoding=\"utf-8\") as file:\n",
        "            print(\"File contents:\\n\", file.read())\n",
        "else:\n",
        "    print(f\"The file '{file_path}' does not exist.\")\n"
      ],
      "metadata": {
        "colab": {
          "base_uri": "https://localhost:8080/"
        },
        "id": "ZHsZtvXrMKk-",
        "outputId": "605c12e3-da3e-49b7-8907-a303db7529c1"
      },
      "execution_count": 106,
      "outputs": [
        {
          "output_type": "stream",
          "name": "stdout",
          "text": [
            "File contents:\n",
            " hey, i am vishal\n"
          ]
        }
      ]
    },
    {
      "cell_type": "code",
      "source": [
        "#23. Write a Python program that writes to a log file when an error occurs during file handling.\n",
        "import logging\n",
        "logging.basicConfig(\n",
        "    filename=\"file_errors.log\",\n",
        "    level=logging.ERROR,\n",
        "    format=\"%(asctime)s - %(levelname)s - %(message)s\"\n",
        ")\n",
        "\n",
        "file_path = \"non_existent_file.txt\"\n",
        "\n",
        "try:\n",
        "    with open(file_path, \"r\", encoding=\"utf-8\") as file:\n",
        "        content = file.read()\n",
        "        print(content)\n",
        "except Exception as e:\n",
        "    logging.error(f\"Error while handling file '{file_path}': {e}\")\n",
        "    print(\"An error occurred. Check 'file_errors.log' for details.\")\n"
      ],
      "metadata": {
        "colab": {
          "base_uri": "https://localhost:8080/"
        },
        "id": "DUPX--mGMKoW",
        "outputId": "d97c49c7-c138-4550-ed38-4b2fd0a17d87"
      },
      "execution_count": 111,
      "outputs": [
        {
          "output_type": "stream",
          "name": "stderr",
          "text": [
            "ERROR:root:Error while handling file 'non_existent_file.txt': [Errno 2] No such file or directory: 'non_existent_file.txt'\n"
          ]
        },
        {
          "output_type": "stream",
          "name": "stdout",
          "text": [
            "An error occurred. Check 'file_errors.log' for details.\n"
          ]
        }
      ]
    },
    {
      "cell_type": "code",
      "source": [],
      "metadata": {
        "id": "1tWQttctMKrP"
      },
      "execution_count": null,
      "outputs": []
    }
  ]
}